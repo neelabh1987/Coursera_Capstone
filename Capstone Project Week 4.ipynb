{
 "cells": [
  {
   "cell_type": "markdown",
   "metadata": {},
   "source": [
    "# Introduction/Business problem"
   ]
  },
  {
   "cell_type": "markdown",
   "metadata": {},
   "source": [
    "## The purpose of this Project is to help people in exploring better facilities around their neighborhood. It will help people making smart and efficient decision on selecting great neighborhood out of numbers of other neighborhoods in Uttar Pradesh, India based on amenities & financial status.\n",
    "\n",
    "## Lots of people come to Uttar Pradesh for job, education & business purpose and needed lots of research for good housing prices and reputated schools for their children. This project is for those people who are looking for better neighborhoods. For ease of accessing to Cafe, School, Super market, medical shops, grocery shops, mall, theatre, hospital, like minded people, etc.\n",
    "\n",
    "## It will help people to get awareness of the area and neighborhood before moving to a new city, state, country or place for their work or to start a new fresh life."
   ]
  },
  {
   "cell_type": "markdown",
   "metadata": {},
   "source": [
    "# Foursquare API data"
   ]
  },
  {
   "cell_type": "markdown",
   "metadata": {},
   "source": [
    "## We will need data about different venues in different neighborhoods of that specific city/location. In order to gain that information we will use “Foursquare” locational information. Foursquare is a location data provider with information about all manner of venues and events within an area of interest. Such information includes venue names, locations, menus and even photos. As such, the foursquare location platform will be used as the sole data source since all the stated required information can be obtained through this API.\n",
    "\n",
    "## After finding the list of neighborhood cities, we then connect to the Foursquare API to gather information about venues inside each and every neighborhood. For each neighborhood city, we have chosen the radius to be 40000 meter.\n",
    "\n",
    "## The data retrieved from Foursquare contains information of venues within a specified distance of the longitude and latitude of cities in Uttar Pradesh . The information obtained per venue as follows:\n",
    "\n",
    "## 1. Neighborhood \n",
    "## 2. Neighborhood Latitude  \n",
    "## 3. Neighborhood Longitude  \n",
    "## 4. Venue  \n",
    "## 5. Name of the venue e.g. the name of a store or restaurant  \n",
    "## 6. Venue Latitude  \n",
    "## 7. Venue Longitude  \n",
    "## 8. Venue Category"
   ]
  },
  {
   "cell_type": "markdown",
   "metadata": {},
   "source": [
    "# Methodology "
   ]
  },
  {
   "cell_type": "markdown",
   "metadata": {},
   "source": [
    "## Clustering approach"
   ]
  },
  {
   "cell_type": "markdown",
   "metadata": {},
   "source": [
    "## To compare the similarities of two cities, I decided to segment them, and group them into clusters to find similar cities in a big state like Uttar Pradesh. To be able to do that, we need to cluster data which is a form of unsupervised machine learning: k-means clustering algorithm.\n",
    "\n",
    "## To find the optimum number of clusters, I used Silhouette score to group the cities into clusters based on amenities."
   ]
  },
  {
   "cell_type": "markdown",
   "metadata": {},
   "source": [
    "## Work Flow:\n",
    "### Using credentials of Foursquare API features of near-by places of the neighborhoods would be mined. Due to http request limitations the number of places per neighborhood parameter would reasonably be set to 100 and the radius parameter would be set to 40000."
   ]
  },
  {
   "cell_type": "markdown",
   "metadata": {},
   "source": [
    "# Problem Which Tried to Solve:"
   ]
  },
  {
   "cell_type": "markdown",
   "metadata": {},
   "source": [
    "## The major purpose of this project, is to suggest a better neighborhood/place in a new city for the person who are shiffting there. Social presence in society in terms of like minded people. Connectivity to the airport, bus stand, city center, markets and other daily needs things nearby.In this project, using k-means cluster algorithm I separated the neighborhood cities into 4 (four) different clusters and for 70 different lattitude and longitude from dataset, which have very-similar neighborhoods around them. "
   ]
  },
  {
   "cell_type": "markdown",
   "metadata": {},
   "source": [
    "# Libraries Which are Used to Develop the Project:\n",
    "## Numpy : For creating & manipulating arrays\n",
    "## Pandas: For creating and manipulating dataframes.\n",
    "## Folium: Python visualization library would be used to visualize the neighborhoods cluster distribution of using interactive leaflet map.\n",
    "## Scikit Learn: For importing k-means clustering.\n",
    "## JSON: Library to handle JSON files.\n",
    "## Geocoder: To retrieve Location Data.\n",
    "## Beautiful Soup and Requests: To scrap and library to handle http requests.\n",
    "## Matplotlib: Python Plotting Module."
   ]
  },
  {
   "cell_type": "code",
   "execution_count": null,
   "metadata": {},
   "outputs": [],
   "source": []
  }
 ],
 "metadata": {
  "kernelspec": {
   "display_name": "Python 3",
   "language": "python",
   "name": "python3"
  },
  "language_info": {
   "codemirror_mode": {
    "name": "ipython",
    "version": 3
   },
   "file_extension": ".py",
   "mimetype": "text/x-python",
   "name": "python",
   "nbconvert_exporter": "python",
   "pygments_lexer": "ipython3",
   "version": "3.8.5"
  }
 },
 "nbformat": 4,
 "nbformat_minor": 4
}
